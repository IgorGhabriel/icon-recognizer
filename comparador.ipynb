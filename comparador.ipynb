{
 "cells": [
  {
   "cell_type": "markdown",
   "metadata": {},
   "source": [
    "Esse programa tem o objetivo de:\n",
    "\n",
    "\n",
    "receber o path de um arquivo de imagem\n",
    "transformar essa imagem .png em PIL Image\n",
    "\n",
    "Extrair o tensores dessa PIL Image\n",
    "\n",
    "Analisar as características dessa imagem pelos tensores\n",
    "voltar um array com as caracteristicas das imagem\n",
    "\n",
    "calcular da base de dados, os 5 icones que mais se assemelham a imagem que o programa recebeu\n"
   ]
  },
  {
   "cell_type": "code",
   "execution_count": 3,
   "metadata": {},
   "outputs": [],
   "source": [
    "import os\n",
    "\n",
    "import json\n",
    "\n",
    "import pandas as pd\n",
    "import numpy as np\n",
    "\n",
    "import torch\n",
    "from torchvision.transforms import v2\n",
    "from PIL import Image\n",
    "\n",
    "import torchvision.models as models\n",
    "\n",
    "\n",
    "from scipy.spatial.distance import euclidean\n",
    "\n",
    "import matplotlib.pyplot as plt"
   ]
  },
  {
   "cell_type": "code",
   "execution_count": 4,
   "metadata": {},
   "outputs": [],
   "source": [
    "def  ler_imagem(path_imagem):\n",
    "\n",
    "    imagem = Image.open(path_imagem).convert('RGB')\n",
    "    \n",
    "    return imagem\n",
    "    "
   ]
  },
  {
   "cell_type": "code",
   "execution_count": 5,
   "metadata": {},
   "outputs": [],
   "source": [
    "def tensor_imagem(imagem):\n",
    "\n",
    "    img = v2.Compose([\n",
    "                    v2.Resize((224, 224)),\n",
    "                    v2.ToImage(), \n",
    "                    v2.ToDtype(torch.float32, scale=True),\n",
    "                    v2.Normalize(mean=[0.485, 0.456, 0.406], std=[0.229, 0.224, 0.225])])\n",
    "        \n",
    "    tensor_imagem = img(imagem)\n",
    "\n",
    "    return tensor_imagem"
   ]
  },
  {
   "cell_type": "code",
   "execution_count": 6,
   "metadata": {},
   "outputs": [],
   "source": [
    "def analisar_tensor_imagem(tensor_imagem):\n",
    "\n",
    "    device = torch.device('cuda' if torch.cuda.is_available() else 'cpu')\n",
    "    print(f\"Torch device: {device}\\n\")\n",
    "\n",
    "    torch.cuda.empty_cache()\n",
    "\n",
    "    model = models.resnet50(weights = models.ResNet50_Weights.DEFAULT)\n",
    "    model = torch.nn.Sequential(*(list(model.children())[:-1]))\n",
    "\n",
    "    model.to(device).eval()\n",
    "\n",
    "    tensor_imagem = tensor_imagem.to(device)\n",
    "\n",
    "    if tensor_imagem.dim() == 3:\n",
    "        tensor_imagem = tensor_imagem.unsqueeze(0)\n",
    "    \n",
    "    with torch.no_grad():\n",
    "        features = model(tensor_imagem).squeeze()\n",
    "        array_caracteristicas = features.cpu().numpy()\n",
    "\n",
    "\n",
    "    return array_caracteristicas"
   ]
  },
  {
   "cell_type": "code",
   "execution_count": 7,
   "metadata": {},
   "outputs": [],
   "source": [
    "def ler_dataframe(nome_arquivo_hdf5 = \"icons-data-frame.h5\"):\n",
    "\n",
    "        nome_data_base = pd.read_hdf(nome_arquivo_hdf5, key=\"data\")\n",
    "        nome_data_base['Array características'] = nome_data_base['Array características'].apply(lambda x: np.array(json.loads(x)))\n",
    "        return nome_data_base"
   ]
  },
  {
   "cell_type": "code",
   "execution_count": 8,
   "metadata": {},
   "outputs": [],
   "source": [
    "def comparador(array_caracteristicas_imagem, data_base, qntd_imagens_similares = 5):\n",
    "    \n",
    "    distances = [euclidean(array_caracteristicas_imagem, c) for c in data_base['Array características']]\n",
    "\n",
    "    alike_indexes = np.argsort(distances)\n",
    "    top_alike_indexes = alike_indexes[:qntd_imagens_similares]\n",
    "\n",
    "    return top_alike_indexes\n"
   ]
  },
  {
   "cell_type": "code",
   "execution_count": 14,
   "metadata": {},
   "outputs": [],
   "source": [
    "def visualizar_similares(indices_similares, data_base):\n",
    "    plt.figure(figsize=(15, 5))\n",
    "    for i, idx in enumerate(indices_similares):\n",
    "        img = (data_base['PIL Image'][idx])\n",
    "        plt.subplot(1, len(indices_similares), i + 1)\n",
    "        plt.imshow(img)\n",
    "        plt.title(f'Icone: {data_base['Nome'][idx]}')\n",
    "        plt.axis('off')\n",
    "    plt.show()"
   ]
  },
  {
   "cell_type": "code",
   "execution_count": 10,
   "metadata": {},
   "outputs": [],
   "source": [
    "def main(path_imagem, nome_arquivo_hdf5 = 'icons-database.h5', qntd_imagens_similares = 5):\n",
    "\n",
    "    imagem = ler_imagem(path_imagem)\n",
    "\n",
    "    tensor = tensor_imagem(imagem)\n",
    "\n",
    "    caracteristicas = analisar_tensor_imagem(tensor)\n",
    "\n",
    "    data_base = ler_dataframe(nome_arquivo_hdf5)\n",
    "\n",
    "    idx_semelhantes = comparador(caracteristicas, data_base, qntd_imagens_similares)\n",
    "\n",
    "    alike_icons_paths = [data_base['svg path'][idx] for idx in idx_semelhantes]\n",
    "\n",
    "    print(\"\\nPath dos icones similares:\")\n",
    "    for path in alike_icons_paths:\n",
    "        print(\"\\n\" + path +\"\\n\")\n",
    "\n",
    "    visualizar_similares(idx_semelhantes, data_base)\n"
   ]
  },
  {
   "cell_type": "code",
   "execution_count": 13,
   "metadata": {},
   "outputs": [
    {
     "name": "stdout",
     "output_type": "stream",
     "text": [
      "Torch device: cuda\n",
      "\n",
      "\n",
      "Path dos icones similares:\n",
      "\n",
      "material-design-icons\\svg\\filled\\spatial_audio.svg\n",
      "\n",
      "\n",
      "material-design-icons\\svg\\filled\\spatial_tracking.svg\n",
      "\n",
      "\n",
      "material-design-icons\\svg\\filled\\transcribe.svg\n",
      "\n",
      "\n",
      "material-design-icons\\svg\\filled\\spatial_audio_off.svg\n",
      "\n",
      "\n",
      "material-design-icons\\svg\\filled\\person_remove.svg\n",
      "\n",
      "<class 'PIL.Image.Image'>\n",
      "<class 'PIL.Image.Image'>\n",
      "<class 'PIL.Image.Image'>\n",
      "<class 'PIL.Image.Image'>\n",
      "<class 'PIL.Image.Image'>\n"
     ]
    },
    {
     "data": {
      "image/png": "[encoded data removed]",
      "text/plain": [
       "<Figure size 1500x500 with 5 Axes>"
      ]
     },
     "metadata": {},
     "output_type": "display_data"
    }
   ],
   "source": [
    "main('teste.png')"
   ]
  }
 ],
 "metadata": {
  "kernelspec": {
   "display_name": "Python 3",
   "language": "python",
   "name": "python3"
  },
  "language_info": {
   "codemirror_mode": {
    "name": "ipython",
    "version": 3
   },
   "file_extension": ".py",
   "mimetype": "text/x-python",
   "name": "python",
   "nbconvert_exporter": "python",
   "pygments_lexer": "ipython3",
   "version": "3.12.1"
  }
 },
 "nbformat": 4,
 "nbformat_minor": 2
}
